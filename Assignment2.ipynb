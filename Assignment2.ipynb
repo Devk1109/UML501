{
 "cells": [
  {
   "cell_type": "code",
   "execution_count": 9,
   "id": "a4aaa2e1",
   "metadata": {},
   "outputs": [],
   "source": [
    "import numpy as np\n",
    "import pandas as pd\n"
   ]
  },
  {
   "cell_type": "markdown",
   "id": "587b8fa5",
   "metadata": {},
   "source": [
    "(a) Examine the values of each attribute and Select a set of attributes only that would affect to predict \n",
    "future bike buyers to create your input for data mining algorithms. Remove all the unnecessary \n",
    "attributes. (Select features just by analysis). \n",
    "(b) Create a new Data Frame with the selected attributes only. \n",
    "\n",
    "(c) Determine a Data value type (Discrete, or Continuous, then Nominal, Ordinal, Interval, Ratio) of \n",
    "each attribute in your selection to identify preprocessing tasks to create input for your data mining. "
   ]
  },
  {
   "cell_type": "code",
   "execution_count": 10,
   "id": "d0e9fd49",
   "metadata": {},
   "outputs": [
    {
     "data": {
      "application/vnd.microsoft.datawrangler.viewer.v0+json": {
       "columns": [
        {
         "name": "index",
         "rawType": "int64",
         "type": "integer"
        },
        {
         "name": "Age",
         "rawType": "int64",
         "type": "integer"
        },
        {
         "name": "Education",
         "rawType": "object",
         "type": "string"
        },
        {
         "name": "Occupation",
         "rawType": "object",
         "type": "string"
        },
        {
         "name": "Gender",
         "rawType": "object",
         "type": "string"
        },
        {
         "name": "MaritalStatus",
         "rawType": "object",
         "type": "string"
        },
        {
         "name": "HomeOwnerFlag",
         "rawType": "int64",
         "type": "integer"
        },
        {
         "name": "NumberCarsOwned",
         "rawType": "int64",
         "type": "integer"
        },
        {
         "name": "NumberChildrenAtHome",
         "rawType": "int64",
         "type": "integer"
        },
        {
         "name": "TotalChildren",
         "rawType": "int64",
         "type": "integer"
        },
        {
         "name": "YearlyIncome",
         "rawType": "int64",
         "type": "integer"
        },
        {
         "name": "BikeBuyer",
         "rawType": "int64",
         "type": "integer"
        }
       ],
       "ref": "5188424e-26b8-4e8b-9393-9d0f1dce851a",
       "rows": [
        [
         "0",
         "37",
         "Bachelors",
         "Clerical",
         "M",
         "M",
         "1",
         "3",
         "0",
         "1",
         "81916",
         "1"
        ],
        [
         "1",
         "53",
         "Partial College",
         "Clerical",
         "M",
         "M",
         "1",
         "2",
         "1",
         "2",
         "81076",
         "1"
        ],
        [
         "2",
         "39",
         "Bachelors",
         "Clerical",
         "F",
         "S",
         "0",
         "3",
         "0",
         "0",
         "86387",
         "1"
        ],
        [
         "3",
         "47",
         "Partial College",
         "Skilled Manual",
         "M",
         "M",
         "1",
         "2",
         "1",
         "2",
         "61481",
         "1"
        ],
        [
         "4",
         "50",
         "Partial College",
         "Skilled Manual",
         "M",
         "S",
         "1",
         "1",
         "0",
         "0",
         "51804",
         "1"
        ]
       ],
       "shape": {
        "columns": 11,
        "rows": 5
       }
      },
      "text/html": [
       "<div>\n",
       "<style scoped>\n",
       "    .dataframe tbody tr th:only-of-type {\n",
       "        vertical-align: middle;\n",
       "    }\n",
       "\n",
       "    .dataframe tbody tr th {\n",
       "        vertical-align: top;\n",
       "    }\n",
       "\n",
       "    .dataframe thead th {\n",
       "        text-align: right;\n",
       "    }\n",
       "</style>\n",
       "<table border=\"1\" class=\"dataframe\">\n",
       "  <thead>\n",
       "    <tr style=\"text-align: right;\">\n",
       "      <th></th>\n",
       "      <th>Age</th>\n",
       "      <th>Education</th>\n",
       "      <th>Occupation</th>\n",
       "      <th>Gender</th>\n",
       "      <th>MaritalStatus</th>\n",
       "      <th>HomeOwnerFlag</th>\n",
       "      <th>NumberCarsOwned</th>\n",
       "      <th>NumberChildrenAtHome</th>\n",
       "      <th>TotalChildren</th>\n",
       "      <th>YearlyIncome</th>\n",
       "      <th>BikeBuyer</th>\n",
       "    </tr>\n",
       "  </thead>\n",
       "  <tbody>\n",
       "    <tr>\n",
       "      <th>0</th>\n",
       "      <td>37</td>\n",
       "      <td>Bachelors</td>\n",
       "      <td>Clerical</td>\n",
       "      <td>M</td>\n",
       "      <td>M</td>\n",
       "      <td>1</td>\n",
       "      <td>3</td>\n",
       "      <td>0</td>\n",
       "      <td>1</td>\n",
       "      <td>81916</td>\n",
       "      <td>1</td>\n",
       "    </tr>\n",
       "    <tr>\n",
       "      <th>1</th>\n",
       "      <td>53</td>\n",
       "      <td>Partial College</td>\n",
       "      <td>Clerical</td>\n",
       "      <td>M</td>\n",
       "      <td>M</td>\n",
       "      <td>1</td>\n",
       "      <td>2</td>\n",
       "      <td>1</td>\n",
       "      <td>2</td>\n",
       "      <td>81076</td>\n",
       "      <td>1</td>\n",
       "    </tr>\n",
       "    <tr>\n",
       "      <th>2</th>\n",
       "      <td>39</td>\n",
       "      <td>Bachelors</td>\n",
       "      <td>Clerical</td>\n",
       "      <td>F</td>\n",
       "      <td>S</td>\n",
       "      <td>0</td>\n",
       "      <td>3</td>\n",
       "      <td>0</td>\n",
       "      <td>0</td>\n",
       "      <td>86387</td>\n",
       "      <td>1</td>\n",
       "    </tr>\n",
       "    <tr>\n",
       "      <th>3</th>\n",
       "      <td>47</td>\n",
       "      <td>Partial College</td>\n",
       "      <td>Skilled Manual</td>\n",
       "      <td>M</td>\n",
       "      <td>M</td>\n",
       "      <td>1</td>\n",
       "      <td>2</td>\n",
       "      <td>1</td>\n",
       "      <td>2</td>\n",
       "      <td>61481</td>\n",
       "      <td>1</td>\n",
       "    </tr>\n",
       "    <tr>\n",
       "      <th>4</th>\n",
       "      <td>50</td>\n",
       "      <td>Partial College</td>\n",
       "      <td>Skilled Manual</td>\n",
       "      <td>M</td>\n",
       "      <td>S</td>\n",
       "      <td>1</td>\n",
       "      <td>1</td>\n",
       "      <td>0</td>\n",
       "      <td>0</td>\n",
       "      <td>51804</td>\n",
       "      <td>1</td>\n",
       "    </tr>\n",
       "  </tbody>\n",
       "</table>\n",
       "</div>"
      ],
      "text/plain": [
       "   Age        Education      Occupation Gender MaritalStatus  HomeOwnerFlag  \\\n",
       "0   37        Bachelors        Clerical      M             M              1   \n",
       "1   53  Partial College        Clerical      M             M              1   \n",
       "2   39        Bachelors        Clerical      F             S              0   \n",
       "3   47  Partial College  Skilled Manual      M             M              1   \n",
       "4   50  Partial College  Skilled Manual      M             S              1   \n",
       "\n",
       "   NumberCarsOwned  NumberChildrenAtHome  TotalChildren  YearlyIncome  \\\n",
       "0                3                     0              1         81916   \n",
       "1                2                     1              2         81076   \n",
       "2                3                     0              0         86387   \n",
       "3                2                     1              2         61481   \n",
       "4                1                     0              0         51804   \n",
       "\n",
       "   BikeBuyer  \n",
       "0          1  \n",
       "1          1  \n",
       "2          1  \n",
       "3          1  \n",
       "4          1  "
      ]
     },
     "execution_count": 10,
     "metadata": {},
     "output_type": "execute_result"
    }
   ],
   "source": [
    "customers = pd.read_csv(\"AWCustomers.csv\")\n",
    "sales = pd.read_csv(\"AWSales.csv\")\n",
    "\n",
    "dfm = pd.merge(customers, sales, on=\"CustomerID\")\n",
    "dfm['BirthDate'] = pd.to_datetime(dfm['BirthDate'], errors='coerce')\n",
    "dfm['Age'] = (pd.to_datetime(\"today\") - dfm['BirthDate']).dt.days // 365\n",
    "\n",
    "cols = [\"Age\",\"Education\",\"Occupation\",\"Gender\",\"MaritalStatus\",\"HomeOwnerFlag\",\n",
    "        \"NumberCarsOwned\",\"NumberChildrenAtHome\",\"TotalChildren\",\"YearlyIncome\",\"BikeBuyer\"]\n",
    "df = dfm[cols].copy()\n",
    "df.head()\n"
   ]
  },
  {
   "cell_type": "markdown",
   "id": "b7f07efe",
   "metadata": {},
   "source": []
  },
  {
   "cell_type": "code",
   "execution_count": 11,
   "id": "c4f02c94",
   "metadata": {},
   "outputs": [
    {
     "name": "stdout",
     "output_type": "stream",
     "text": [
      "Age                     0\n",
      "Education               0\n",
      "Occupation              0\n",
      "Gender                  0\n",
      "MaritalStatus           0\n",
      "HomeOwnerFlag           0\n",
      "NumberCarsOwned         0\n",
      "NumberChildrenAtHome    0\n",
      "TotalChildren           0\n",
      "YearlyIncome            0\n",
      "BikeBuyer               0\n",
      "dtype: int64\n",
      "Age                     0\n",
      "Education               0\n",
      "Occupation              0\n",
      "Gender                  0\n",
      "MaritalStatus           0\n",
      "HomeOwnerFlag           0\n",
      "NumberCarsOwned         0\n",
      "NumberChildrenAtHome    0\n",
      "TotalChildren           0\n",
      "YearlyIncome            0\n",
      "BikeBuyer               0\n",
      "dtype: int64\n"
     ]
    }
   ],
   "source": [
    "print(df.isnull().sum())\n",
    "\n",
    "df = df.fillna({\n",
    "    'YearlyIncome': df['YearlyIncome'].median(),\n",
    "    'Education': df['Education'].mode()[0],\n",
    "    'Occupation': df['Occupation'].mode()[0],\n",
    "    'Age': df['Age'].median()\n",
    "})\n",
    "\n",
    "print(df.isnull().sum())"
   ]
  },
  {
   "cell_type": "code",
   "execution_count": 12,
   "id": "af785043",
   "metadata": {},
   "outputs": [],
   "source": [
    "from sklearn.preprocessing import MinMaxScaler\n",
    "\n",
    "num_cols = ['Age','YearlyIncome','HomeOwnerFlag','NumberCarsOwned','NumberChildrenAtHome','TotalChildren']\n",
    "mm = MinMaxScaler()\n",
    "df_minmax = pd.DataFrame(mm.fit_transform(df[num_cols]), columns=[c+\"_minmax\" for c in num_cols], index=df.index)\n",
    "df = pd.concat([df, df_minmax], axis=1)"
   ]
  },
  {
   "cell_type": "code",
   "execution_count": 13,
   "id": "0e151d76",
   "metadata": {},
   "outputs": [],
   "source": [
    "df['IncomeBin'] = pd.qcut(df['YearlyIncome'], q=4, labels=[\"Low\",\"Medium\",\"High\",\"Very High\"])\n"
   ]
  },
  {
   "cell_type": "code",
   "execution_count": 14,
   "id": "ba4d4b5b",
   "metadata": {},
   "outputs": [],
   "source": [
    "from sklearn.preprocessing import StandardScaler\n",
    "\n",
    "ss = StandardScaler()\n",
    "df_std = pd.DataFrame(ss.fit_transform(df[num_cols]), columns=[c+\"_std\" for c in num_cols], index=df.index)\n",
    "df = pd.concat([df, df_std], axis=1)"
   ]
  },
  {
   "cell_type": "code",
   "execution_count": 15,
   "id": "cb0e2b05",
   "metadata": {},
   "outputs": [
    {
     "data": {
      "application/vnd.microsoft.datawrangler.viewer.v0+json": {
       "columns": [
        {
         "name": "index",
         "rawType": "int64",
         "type": "integer"
        },
        {
         "name": "Age",
         "rawType": "int64",
         "type": "integer"
        },
        {
         "name": "HomeOwnerFlag",
         "rawType": "int64",
         "type": "integer"
        },
        {
         "name": "NumberCarsOwned",
         "rawType": "int64",
         "type": "integer"
        },
        {
         "name": "NumberChildrenAtHome",
         "rawType": "int64",
         "type": "integer"
        },
        {
         "name": "TotalChildren",
         "rawType": "int64",
         "type": "integer"
        },
        {
         "name": "YearlyIncome",
         "rawType": "int64",
         "type": "integer"
        },
        {
         "name": "BikeBuyer",
         "rawType": "int64",
         "type": "integer"
        },
        {
         "name": "Age_minmax",
         "rawType": "float64",
         "type": "float"
        },
        {
         "name": "YearlyIncome_minmax",
         "rawType": "float64",
         "type": "float"
        },
        {
         "name": "HomeOwnerFlag_minmax",
         "rawType": "float64",
         "type": "float"
        },
        {
         "name": "NumberCarsOwned_minmax",
         "rawType": "float64",
         "type": "float"
        },
        {
         "name": "NumberChildrenAtHome_minmax",
         "rawType": "float64",
         "type": "float"
        },
        {
         "name": "TotalChildren_minmax",
         "rawType": "float64",
         "type": "float"
        },
        {
         "name": "Age_std",
         "rawType": "float64",
         "type": "float"
        },
        {
         "name": "YearlyIncome_std",
         "rawType": "float64",
         "type": "float"
        },
        {
         "name": "HomeOwnerFlag_std",
         "rawType": "float64",
         "type": "float"
        },
        {
         "name": "NumberCarsOwned_std",
         "rawType": "float64",
         "type": "float"
        },
        {
         "name": "NumberChildrenAtHome_std",
         "rawType": "float64",
         "type": "float"
        },
        {
         "name": "TotalChildren_std",
         "rawType": "float64",
         "type": "float"
        },
        {
         "name": "Education_Graduate Degree",
         "rawType": "bool",
         "type": "boolean"
        },
        {
         "name": "Education_High School",
         "rawType": "bool",
         "type": "boolean"
        },
        {
         "name": "Education_Partial College",
         "rawType": "bool",
         "type": "boolean"
        },
        {
         "name": "Education_Partial High School",
         "rawType": "bool",
         "type": "boolean"
        },
        {
         "name": "Occupation_Management",
         "rawType": "bool",
         "type": "boolean"
        },
        {
         "name": "Occupation_Manual",
         "rawType": "bool",
         "type": "boolean"
        },
        {
         "name": "Occupation_Professional",
         "rawType": "bool",
         "type": "boolean"
        },
        {
         "name": "Occupation_Skilled Manual",
         "rawType": "bool",
         "type": "boolean"
        },
        {
         "name": "Gender_M",
         "rawType": "bool",
         "type": "boolean"
        },
        {
         "name": "MaritalStatus_S",
         "rawType": "bool",
         "type": "boolean"
        },
        {
         "name": "IncomeBin_Medium",
         "rawType": "bool",
         "type": "boolean"
        },
        {
         "name": "IncomeBin_High",
         "rawType": "bool",
         "type": "boolean"
        },
        {
         "name": "IncomeBin_Very High",
         "rawType": "bool",
         "type": "boolean"
        }
       ],
       "ref": "29fc2b06-3a77-4f49-b6b4-21422473a785",
       "rows": [
        [
         "0",
         "37",
         "1",
         "3",
         "0",
         "1",
         "81916",
         "1",
         "0.18309859154929575",
         "0.4968420126671358",
         "1.0",
         "0.6000000000000001",
         "0.0",
         "0.3333333333333333",
         "-0.5428492862772489",
         "0.29855522291351505",
         "0.7986028295408412",
         "1.892524165060669",
         "-0.594371334523968",
         "0.16134171317008306",
         "False",
         "False",
         "False",
         "False",
         "False",
         "False",
         "False",
         "False",
         "True",
         "False",
         "False",
         "True",
         "False"
        ],
        [
         "1",
         "53",
         "1",
         "2",
         "1",
         "2",
         "81076",
         "1",
         "0.4084507042253521",
         "0.4894528501055595",
         "1.0",
         "0.4",
         "0.3333333333333333",
         "0.6666666666666666",
         "0.8769371522878402",
         "0.2711804434150313",
         "0.7986028295408412",
         "0.7983890791108927",
         "1.1632791845925685",
         "1.2397527781558477",
         "False",
         "False",
         "True",
         "False",
         "False",
         "False",
         "False",
         "False",
         "True",
         "False",
         "False",
         "True",
         "False"
        ],
        [
         "2",
         "39",
         "0",
         "3",
         "0",
         "0",
         "86387",
         "1",
         "0.21126760563380287",
         "0.5361717100633356",
         "0.0",
         "0.6000000000000001",
         "0.0",
         "0.0",
         "-0.36537598145661276",
         "0.4442607456965164",
         "-1.2521868981793525",
         "1.892524165060669",
         "-0.594371334523968",
         "-0.9170693518156816",
         "False",
         "False",
         "False",
         "False",
         "False",
         "False",
         "False",
         "False",
         "False",
         "True",
         "False",
         "True",
         "False"
        ],
        [
         "3",
         "47",
         "1",
         "2",
         "1",
         "2",
         "61481",
         "1",
         "0.323943661971831",
         "0.3170830401125968",
         "1.0",
         "0.4",
         "0.3333333333333333",
         "0.6666666666666666",
         "0.34451723782593174",
         "-0.3674014664335286",
         "0.7986028295408412",
         "0.7983890791108927",
         "1.1632791845925685",
         "1.2397527781558477",
         "False",
         "False",
         "True",
         "False",
         "False",
         "False",
         "False",
         "True",
         "True",
         "False",
         "True",
         "False",
         "False"
        ],
        [
         "4",
         "50",
         "1",
         "1",
         "0",
         "0",
         "51804",
         "1",
         "0.3661971830985916",
         "0.23195812807881774",
         "1.0",
         "0.2",
         "0.0",
         "0.0",
         "0.610727195056886",
         "-0.6827654440607046",
         "0.7986028295408412",
         "-0.29574600683888347",
         "-0.594371334523968",
         "-0.9170693518156816",
         "False",
         "False",
         "True",
         "False",
         "False",
         "False",
         "False",
         "True",
         "True",
         "True",
         "False",
         "False",
         "False"
        ]
       ],
       "shape": {
        "columns": 32,
        "rows": 5
       }
      },
      "text/html": [
       "<div>\n",
       "<style scoped>\n",
       "    .dataframe tbody tr th:only-of-type {\n",
       "        vertical-align: middle;\n",
       "    }\n",
       "\n",
       "    .dataframe tbody tr th {\n",
       "        vertical-align: top;\n",
       "    }\n",
       "\n",
       "    .dataframe thead th {\n",
       "        text-align: right;\n",
       "    }\n",
       "</style>\n",
       "<table border=\"1\" class=\"dataframe\">\n",
       "  <thead>\n",
       "    <tr style=\"text-align: right;\">\n",
       "      <th></th>\n",
       "      <th>Age</th>\n",
       "      <th>HomeOwnerFlag</th>\n",
       "      <th>NumberCarsOwned</th>\n",
       "      <th>NumberChildrenAtHome</th>\n",
       "      <th>TotalChildren</th>\n",
       "      <th>YearlyIncome</th>\n",
       "      <th>BikeBuyer</th>\n",
       "      <th>Age_minmax</th>\n",
       "      <th>YearlyIncome_minmax</th>\n",
       "      <th>HomeOwnerFlag_minmax</th>\n",
       "      <th>...</th>\n",
       "      <th>Education_Partial High School</th>\n",
       "      <th>Occupation_Management</th>\n",
       "      <th>Occupation_Manual</th>\n",
       "      <th>Occupation_Professional</th>\n",
       "      <th>Occupation_Skilled Manual</th>\n",
       "      <th>Gender_M</th>\n",
       "      <th>MaritalStatus_S</th>\n",
       "      <th>IncomeBin_Medium</th>\n",
       "      <th>IncomeBin_High</th>\n",
       "      <th>IncomeBin_Very High</th>\n",
       "    </tr>\n",
       "  </thead>\n",
       "  <tbody>\n",
       "    <tr>\n",
       "      <th>0</th>\n",
       "      <td>37</td>\n",
       "      <td>1</td>\n",
       "      <td>3</td>\n",
       "      <td>0</td>\n",
       "      <td>1</td>\n",
       "      <td>81916</td>\n",
       "      <td>1</td>\n",
       "      <td>0.183099</td>\n",
       "      <td>0.496842</td>\n",
       "      <td>1.0</td>\n",
       "      <td>...</td>\n",
       "      <td>False</td>\n",
       "      <td>False</td>\n",
       "      <td>False</td>\n",
       "      <td>False</td>\n",
       "      <td>False</td>\n",
       "      <td>True</td>\n",
       "      <td>False</td>\n",
       "      <td>False</td>\n",
       "      <td>True</td>\n",
       "      <td>False</td>\n",
       "    </tr>\n",
       "    <tr>\n",
       "      <th>1</th>\n",
       "      <td>53</td>\n",
       "      <td>1</td>\n",
       "      <td>2</td>\n",
       "      <td>1</td>\n",
       "      <td>2</td>\n",
       "      <td>81076</td>\n",
       "      <td>1</td>\n",
       "      <td>0.408451</td>\n",
       "      <td>0.489453</td>\n",
       "      <td>1.0</td>\n",
       "      <td>...</td>\n",
       "      <td>False</td>\n",
       "      <td>False</td>\n",
       "      <td>False</td>\n",
       "      <td>False</td>\n",
       "      <td>False</td>\n",
       "      <td>True</td>\n",
       "      <td>False</td>\n",
       "      <td>False</td>\n",
       "      <td>True</td>\n",
       "      <td>False</td>\n",
       "    </tr>\n",
       "    <tr>\n",
       "      <th>2</th>\n",
       "      <td>39</td>\n",
       "      <td>0</td>\n",
       "      <td>3</td>\n",
       "      <td>0</td>\n",
       "      <td>0</td>\n",
       "      <td>86387</td>\n",
       "      <td>1</td>\n",
       "      <td>0.211268</td>\n",
       "      <td>0.536172</td>\n",
       "      <td>0.0</td>\n",
       "      <td>...</td>\n",
       "      <td>False</td>\n",
       "      <td>False</td>\n",
       "      <td>False</td>\n",
       "      <td>False</td>\n",
       "      <td>False</td>\n",
       "      <td>False</td>\n",
       "      <td>True</td>\n",
       "      <td>False</td>\n",
       "      <td>True</td>\n",
       "      <td>False</td>\n",
       "    </tr>\n",
       "    <tr>\n",
       "      <th>3</th>\n",
       "      <td>47</td>\n",
       "      <td>1</td>\n",
       "      <td>2</td>\n",
       "      <td>1</td>\n",
       "      <td>2</td>\n",
       "      <td>61481</td>\n",
       "      <td>1</td>\n",
       "      <td>0.323944</td>\n",
       "      <td>0.317083</td>\n",
       "      <td>1.0</td>\n",
       "      <td>...</td>\n",
       "      <td>False</td>\n",
       "      <td>False</td>\n",
       "      <td>False</td>\n",
       "      <td>False</td>\n",
       "      <td>True</td>\n",
       "      <td>True</td>\n",
       "      <td>False</td>\n",
       "      <td>True</td>\n",
       "      <td>False</td>\n",
       "      <td>False</td>\n",
       "    </tr>\n",
       "    <tr>\n",
       "      <th>4</th>\n",
       "      <td>50</td>\n",
       "      <td>1</td>\n",
       "      <td>1</td>\n",
       "      <td>0</td>\n",
       "      <td>0</td>\n",
       "      <td>51804</td>\n",
       "      <td>1</td>\n",
       "      <td>0.366197</td>\n",
       "      <td>0.231958</td>\n",
       "      <td>1.0</td>\n",
       "      <td>...</td>\n",
       "      <td>False</td>\n",
       "      <td>False</td>\n",
       "      <td>False</td>\n",
       "      <td>False</td>\n",
       "      <td>True</td>\n",
       "      <td>True</td>\n",
       "      <td>True</td>\n",
       "      <td>False</td>\n",
       "      <td>False</td>\n",
       "      <td>False</td>\n",
       "    </tr>\n",
       "  </tbody>\n",
       "</table>\n",
       "<p>5 rows × 32 columns</p>\n",
       "</div>"
      ],
      "text/plain": [
       "   Age  HomeOwnerFlag  NumberCarsOwned  NumberChildrenAtHome  TotalChildren  \\\n",
       "0   37              1                3                     0              1   \n",
       "1   53              1                2                     1              2   \n",
       "2   39              0                3                     0              0   \n",
       "3   47              1                2                     1              2   \n",
       "4   50              1                1                     0              0   \n",
       "\n",
       "   YearlyIncome  BikeBuyer  Age_minmax  YearlyIncome_minmax  \\\n",
       "0         81916          1    0.183099             0.496842   \n",
       "1         81076          1    0.408451             0.489453   \n",
       "2         86387          1    0.211268             0.536172   \n",
       "3         61481          1    0.323944             0.317083   \n",
       "4         51804          1    0.366197             0.231958   \n",
       "\n",
       "   HomeOwnerFlag_minmax  ...  Education_Partial High School  \\\n",
       "0                   1.0  ...                          False   \n",
       "1                   1.0  ...                          False   \n",
       "2                   0.0  ...                          False   \n",
       "3                   1.0  ...                          False   \n",
       "4                   1.0  ...                          False   \n",
       "\n",
       "   Occupation_Management  Occupation_Manual  Occupation_Professional  \\\n",
       "0                  False              False                    False   \n",
       "1                  False              False                    False   \n",
       "2                  False              False                    False   \n",
       "3                  False              False                    False   \n",
       "4                  False              False                    False   \n",
       "\n",
       "   Occupation_Skilled Manual  Gender_M  MaritalStatus_S  IncomeBin_Medium  \\\n",
       "0                      False      True            False             False   \n",
       "1                      False      True            False             False   \n",
       "2                      False     False             True             False   \n",
       "3                       True      True            False              True   \n",
       "4                       True      True             True             False   \n",
       "\n",
       "   IncomeBin_High  IncomeBin_Very High  \n",
       "0            True                False  \n",
       "1            True                False  \n",
       "2            True                False  \n",
       "3           False                False  \n",
       "4           False                False  \n",
       "\n",
       "[5 rows x 32 columns]"
      ]
     },
     "execution_count": 15,
     "metadata": {},
     "output_type": "execute_result"
    }
   ],
   "source": [
    "cat_cols = ['Education','Occupation','Gender','MaritalStatus','IncomeBin']\n",
    "df_ohe = pd.get_dummies(df, columns=cat_cols, drop_first=True)\n",
    "df_ohe.head()"
   ]
  },
  {
   "cell_type": "code",
   "execution_count": 16,
   "id": "12b93db8",
   "metadata": {},
   "outputs": [
    {
     "name": "stdout",
     "output_type": "stream",
     "text": [
      "Cosine Similarity (numeric): 0.2526926842190864\n",
      "Jaccard Similarity (binary): 0.6666666666666667\n",
      "Simple Matching Similarity (binary): 0.9230769230769231\n"
     ]
    }
   ],
   "source": [
    "from sklearn.metrics.pairwise import cosine_similarity\n",
    "from scipy.spatial.distance import jaccard\n",
    "import numpy as np\n",
    "\n",
    "num_std_cols = [c for c in df_ohe.columns if c.endswith('_std')]\n",
    "bin_cols = [c for c in df_ohe.columns if c.startswith(('Education_','Occupation_','Gender_','MaritalStatus_','IncomeBin_'))]\n",
    "\n",
    "x_num = df_ohe.loc[df_ohe.index[0], num_std_cols].values.reshape(1,-1)\n",
    "y_num = df_ohe.loc[df_ohe.index[1], num_std_cols].values.reshape(1,-1)\n",
    "cos_sim = float(cosine_similarity(x_num, y_num)[0,0])\n",
    "\n",
    "x_bin = df_ohe.loc[df_ohe.index[0], bin_cols].astype(bool).values\n",
    "y_bin = df_ohe.loc[df_ohe.index[1], bin_cols].astype(bool).values\n",
    "jacc_sim = 1 - jaccard(x_bin, y_bin)\n",
    "sm_sim = (x_bin == y_bin).mean()\n",
    "\n",
    "print(\"Cosine Similarity (numeric):\", cos_sim)\n",
    "print(\"Jaccard Similarity (binary):\", jacc_sim)\n",
    "print(\"Simple Matching Similarity (binary):\", sm_sim)\n"
   ]
  },
  {
   "cell_type": "code",
   "execution_count": 17,
   "id": "cdd4b82a",
   "metadata": {},
   "outputs": [
    {
     "name": "stdout",
     "output_type": "stream",
     "text": [
      "CommuteDistance not available in dataset.\n"
     ]
    }
   ],
   "source": [
    "if 'CommuteDistance' in customers.columns:\n",
    "    mapping = {\"0-1 Miles\":1, \"1-2 Miles\":2, \"2-5 Miles\":3, \"5-10 Miles\":4, \"10+ Miles\":5}\n",
    "    customers['CommuteDistance'] = customers['CommuteDistance'].map(mapping)\n",
    "    tmp = customers[['CustomerID','CommuteDistance','YearlyIncome']].dropna()\n",
    "    print(tmp[['CommuteDistance','YearlyIncome']].corr(method='pearson'))\n",
    "else:\n",
    "    print(\"CommuteDistance not available in dataset.\")"
   ]
  }
 ],
 "metadata": {
  "kernelspec": {
   "display_name": "Python 3",
   "language": "python",
   "name": "python3"
  },
  "language_info": {
   "codemirror_mode": {
    "name": "ipython",
    "version": 3
   },
   "file_extension": ".py",
   "mimetype": "text/x-python",
   "name": "python",
   "nbconvert_exporter": "python",
   "pygments_lexer": "ipython3",
   "version": "3.10.10"
  }
 },
 "nbformat": 4,
 "nbformat_minor": 5
}
