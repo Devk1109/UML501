{
 "cells": [
  {
   "cell_type": "code",
   "execution_count": 95,
   "id": "92ab0cb5",
   "metadata": {},
   "outputs": [],
   "source": [
    "import numpy as np"
   ]
  },
  {
   "cell_type": "markdown",
   "id": "84da47ea",
   "metadata": {},
   "source": [
    "(a) Reverse the NumPy array: arr = np.array([1, 2, 3, 6, 4, 5]) "
   ]
  },
  {
   "cell_type": "code",
   "execution_count": 96,
   "id": "a8448188",
   "metadata": {},
   "outputs": [
    {
     "data": {
      "text/plain": [
       "array([5, 4, 6, 3, 2, 1])"
      ]
     },
     "execution_count": 96,
     "metadata": {},
     "output_type": "execute_result"
    }
   ],
   "source": [
    "arr=np.array([1, 2, 3, 6, 4,5])\n",
    "arr2=arr[::-1]\n",
    "arr2"
   ]
  },
  {
   "cell_type": "markdown",
   "id": "83c2bfc0",
   "metadata": {},
   "source": [
    "(b) Flatten the NumPy arr: array1 = np.array([[1, 2, 3], [2, 4, 5], [1, 2, 3]]) using any two \n",
    "NumPy in-built methods "
   ]
  },
  {
   "cell_type": "code",
   "execution_count": 97,
   "id": "dc6bc6d7",
   "metadata": {},
   "outputs": [
    {
     "name": "stdout",
     "output_type": "stream",
     "text": [
      "[1 2 3 2 4 5 1 2 3]\n",
      "[1 2 3 2 4 5 1 2 3]\n"
     ]
    }
   ],
   "source": [
    "array1=np.array([[1,2,3],[2,4,5],[1,2,3]])\n",
    "#Method 1\n",
    "print(array1.reshape(9,))\n",
    "#Method 2\n",
    "print(array1.flatten())\n",
    "\n"
   ]
  },
  {
   "cell_type": "markdown",
   "id": "4b69a50a",
   "metadata": {},
   "source": [
    "(c) Compare the following numpy arrays: \n",
    "arr1 = np.array([[1, 2], [3, 4]]) \n",
    "arr2 = np.array([[1, 2], [3, 4]]) "
   ]
  },
  {
   "cell_type": "code",
   "execution_count": 98,
   "id": "ed8a11d6",
   "metadata": {},
   "outputs": [
    {
     "name": "stdout",
     "output_type": "stream",
     "text": [
      "Equal\n"
     ]
    }
   ],
   "source": [
    "arr1=np.array([[1,2],[3,4]])\n",
    "arr2=np.array([[1,2],[3,4]])\n",
    "if np.array_equal(arr1, arr2):\n",
    "    print(\"Equal\")\n",
    "else:\n",
    "    print(\"Not Equal\")"
   ]
  },
  {
   "cell_type": "markdown",
   "id": "40ea0b50",
   "metadata": {},
   "source": [
    "(d) Find the most frequent value and their indice(s) in the following arrays: \n",
    "i. \n",
    "x = np.array([1,2,3,4,5,1,2,1,1,1]) \n",
    "ii. \n",
    "y = np.array([1, 1, 1, 2, 3, 4, 2, 4, 3, 3, ]) "
   ]
  },
  {
   "cell_type": "code",
   "execution_count": 99,
   "id": "f6823709",
   "metadata": {},
   "outputs": [
    {
     "name": "stdout",
     "output_type": "stream",
     "text": [
      "Values: [1 2 3 4 5]\n",
      "Counts: [5 2 1 1 1]\n",
      "Most frequent values: [1]\n",
      "Indices of most frequent values: (array([0, 5, 7, 8, 9]),)\n",
      "Values: [1 2 3 4]\n",
      "Counts: [3 2 3 2]\n",
      "Most frequent values: [1 3]\n",
      "Indices of most frequent values: (array([0, 1, 2, 4, 8, 9]),)\n"
     ]
    }
   ],
   "source": [
    "x=np.array([1,2,3,4,5,1,2,1,1,1])\n",
    "y=np.array([1,1,1,2,3,4,2,4,3,3])\n",
    "# for x\n",
    "values,counts=np.unique(x,return_counts=True)\n",
    "print(\"Values:\", values)\n",
    "print(\"Counts:\", counts) \n",
    "print(\"Most frequent values:\",values[counts==counts.max()])\n",
    "indices=np.where(np.isin(x,values[counts==counts.max()]))\n",
    "print(\"Indices of most frequent values:\", indices)\n",
    "# for y\n",
    "values,counts=np.unique(y,return_counts=True)\n",
    "print(\"Values:\", values)\n",
    "print(\"Counts:\", counts) \n",
    "print(\"Most frequent values:\",values[counts==counts.max()])\n",
    "indices=np.where(np.isin(y,values[counts==counts.max()]))\n",
    "print(\"Indices of most frequent values:\", indices)\n"
   ]
  },
  {
   "cell_type": "markdown",
   "id": "eeda77bc",
   "metadata": {},
   "source": [
    "(e) For the array gfg = np.matrix('[4, 1, 9; 12, 3, 1; 4, 5, 6]'), find \n",
    "i. Sum of all elements \n",
    "ii. Sum of all elements row-wise  \n",
    "iii. Sum of all elements column-wise "
   ]
  },
  {
   "cell_type": "code",
   "execution_count": 100,
   "id": "3949a2c4",
   "metadata": {},
   "outputs": [
    {
     "name": "stdout",
     "output_type": "stream",
     "text": [
      "45\n",
      "[[14]\n",
      " [16]\n",
      " [15]]\n",
      "[[20  9 16]]\n"
     ]
    }
   ],
   "source": [
    "gfg=np.matrix('[4,1,9;12,3,1;4,5,6]')\n",
    "print(gfg.sum())\n",
    "\n",
    "print(gfg.sum(axis=1))\n",
    "\n",
    "print(gfg.sum(axis=0))\n"
   ]
  },
  {
   "cell_type": "markdown",
   "id": "398909e9",
   "metadata": {},
   "source": [
    "(f) For the matrix: n_array = np.array([[55, 25, 15],[30, 44, 2],[11, 45, 77]]), find \n",
    "i. Sum of diagonal elements \n",
    "ii. Eigen values of matrix \n",
    "iii. Eigen vectors of matrix \n",
    "iv. Inverse of matrix \n",
    "v. Determinant of matrix"
   ]
  },
  {
   "cell_type": "code",
   "execution_count": 101,
   "id": "59297808",
   "metadata": {},
   "outputs": [
    {
     "name": "stdout",
     "output_type": "stream",
     "text": [
      "Sum of diagonal elements: 176\n",
      "Eigen values of matrix: [98.16835147 28.097044   49.73460452]\n",
      "Eigen vectors of matrix: [[ 0.4574917   0.34637121 -0.15017693]\n",
      " [ 0.28447814 -0.72784061 -0.4852124 ]\n",
      " [ 0.84248058  0.59184038  0.8614034 ]]\n",
      "Inverse of matrix:\n",
      " [[ 0.02404141 -0.00911212 -0.00444671]\n",
      " [-0.01667882  0.02966905  0.0024785 ]\n",
      " [ 0.00631287 -0.01603732  0.01217379]]\n",
      "Determinant of matrix: 137180.0000000001\n"
     ]
    }
   ],
   "source": [
    "n_array = np.array([[55, 25, 15],[30, 44, 2],[11, 45, 77]])\n",
    "# i. Sum of diagonal elements\n",
    "n_array_diagonal_sum = np.trace(n_array)\n",
    "print(\"Sum of diagonal elements:\", n_array_diagonal_sum)\n",
    "\n",
    "# ii. Eigen values of matrix\n",
    "eigenvalues,eigenvectors=np.linalg.eig(n_array)\n",
    "print(\"Eigen values of matrix:\",eigenvalues)\n",
    "# iii. Eigen vectors of matrix\n",
    "print(\"Eigen vectors of matrix:\", eigenvectors) \n",
    "# iv. Inverse of matrix\n",
    "inverse_matrix=np.linalg.inv(n_array)\n",
    "print(\"Inverse of matrix:\\n\",inverse_matrix)\n",
    "\n",
    "# v. Determinant of matrix\n",
    "determinant=np.linalg.det(n_array)\n",
    "print(\"Determinant of matrix:\",determinant)\n",
    "\n"
   ]
  },
  {
   "cell_type": "markdown",
   "id": "64573cf0",
   "metadata": {},
   "source": [
    "(g) Multiply the following matrices and also find covariance between matrices using NumPy: \n",
    "i. \n",
    "p = [[1, 2], [2, 3]] \n",
    "q = [[4, 5], [6, 7]] \n",
    "ii. \n",
    "p = [[1, 2], [2, 3], [4, 5]] \n",
    "q = [[4, 5, 1], [6, 7, 2]] "
   ]
  },
  {
   "cell_type": "code",
   "execution_count": 102,
   "id": "67894786",
   "metadata": {},
   "outputs": [
    {
     "name": "stdout",
     "output_type": "stream",
     "text": [
      "product is \n",
      " [[16 19]\n",
      " [26 31]]\n",
      "product is \n",
      " [[16 19  5]\n",
      " [26 31  8]\n",
      " [46 55 14]]\n"
     ]
    }
   ],
   "source": [
    "p=np.matrix([[1,2],[2,3]])\n",
    "q=np.matrix([[4,5],[6,7]])\n",
    "print(\"product is \\n\",p*q)\n",
    "\n",
    "\n",
    "p=np.matrix([[1,2],[2,3],[4,5]])\n",
    "q=np.matrix([[4,5,1],[6,7,2]])\n",
    "print(\"product is \\n\",np.dot(p,q))"
   ]
  },
  {
   "cell_type": "markdown",
   "id": "08c96e2a",
   "metadata": {},
   "source": [
    "(h) For the matrices: x = np.array([[2, 3, 4], [3, 2, 9]]); y = np.array([[1, 5, 0], [5, 10, 3]]), \n",
    "find inner, outer and cartesian product? "
   ]
  },
  {
   "cell_type": "code",
   "execution_count": 103,
   "id": "c400f48d",
   "metadata": {},
   "outputs": [
    {
     "name": "stdout",
     "output_type": "stream",
     "text": [
      "[[17 52]\n",
      " [13 62]]\n",
      "\n",
      "[[ 2 10  0 10 20  6]\n",
      " [ 3 15  0 15 30  9]\n",
      " [ 4 20  0 20 40 12]\n",
      " [ 3 15  0 15 30  9]\n",
      " [ 2 10  0 10 20  6]\n",
      " [ 9 45  0 45 90 27]]\n",
      "\n",
      "Cartesian Product using loop:\n",
      " [[ 2  3  4  1  5  0]\n",
      " [ 2  3  4  5 10  3]\n",
      " [ 3  2  9  1  5  0]\n",
      " [ 3  2  9  5 10  3]]\n"
     ]
    }
   ],
   "source": [
    "x=np.array([[2,3,4],[3,2,9]])\n",
    "y=np.array([[1,5,0],[5,10,3]])\n",
    "print(np.inner(x,y))\n",
    "print()\n",
    "print(np.outer(x,y))\n",
    "print()\n",
    "cartesian_product = []\n",
    "\n",
    "for i in range(x.shape[0]):\n",
    "    for j in range(y.shape[0]):\n",
    "        combined = np.concatenate((x[i], y[j]))\n",
    "        cartesian_product.append(combined)\n",
    "\n",
    "cartesian_product = np.array(cartesian_product)\n",
    "print(\"Cartesian Product using loop:\\n\", cartesian_product)\n",
    "\n"
   ]
  },
  {
   "cell_type": "markdown",
   "id": "f2a3e2e1",
   "metadata": {},
   "source": [
    "For the array: array = np.array([[1, -2, 3],[-4, 5, -6]]) \n",
    "i. Find element-wise absolute value \n",
    "ii. Find the 25th, 50th, and 75th percentile of flattened array, for each column, for each row. \n",
    "iii. Mean, Median and Standard Deviation of flattened array, of each column, and each row \n",
    "\n",
    "\n"
   ]
  },
  {
   "cell_type": "code",
   "execution_count": 104,
   "id": "20683b6d",
   "metadata": {},
   "outputs": [
    {
     "name": "stdout",
     "output_type": "stream",
     "text": [
      "Element-wise absolute value:\n",
      " [[1 2 3]\n",
      " [4 5 6]]\n",
      "25th percentile: -3.5\n",
      "50th percentile: -0.5\n",
      "75th percentile: 2.5\n",
      "25th percentile for each column: [-2.75 -0.25 -3.75]\n",
      "50th percentile for each column: [-1.5  1.5 -1.5]\n",
      "75th percentile for each column: [-0.25  3.25  0.75]\n",
      "25th percentile for each row: [-0.5 -5. ]\n",
      "50th percentile for each row: [ 1. -4.]\n",
      "75th percentile for each row: [2.  0.5]\n",
      "Mean: -0.5\n",
      "Median: -0.5\n",
      "Standard Deviation: 3.8622100754188224\n",
      "Mean: [-1.5  1.5 -1.5]\n",
      "Median: [-1.5  1.5 -1.5]\n",
      "Standard Deviation: [2.5 3.5 4.5]\n",
      "Mean: [ 0.66666667 -1.66666667]\n",
      "Median: [ 1. -4.]\n",
      "Standard Deviation: [2.05480467 4.78423336]\n"
     ]
    }
   ],
   "source": [
    "array=np.array([[1,-2,3],[-4,5,-6]])\n",
    "abs_array=np.array(np.abs(array))\n",
    "print(\"Element-wise absolute value:\\n\", abs_array)\n",
    "\n",
    "flat=array.flatten()\n",
    "p25=np.percentile(flat,25)\n",
    "p50=np.percentile(flat,50)\n",
    "p75=np.percentile(flat,75)\n",
    "print(\"25th percentile:\", p25)\n",
    "print(\"50th percentile:\", p50)  \n",
    "print(\"75th percentile:\", p75)\n",
    "\n",
    "\n",
    "# for each coloum\n",
    "p25_col=np.percentile(array,25,axis=0)\n",
    "p50_col=np.percentile(array,50,axis=0)\n",
    "p75_col=np.percentile(array,75,axis=0)\n",
    "print(\"25th percentile for each column:\", p25_col)\n",
    "print(\"50th percentile for each column:\", p50_col)\n",
    "print(\"75th percentile for each column:\", p75_col)\n",
    "\n",
    "\n",
    "# for each row\n",
    "p25_row=np.percentile(array,25,axis=1)\n",
    "p50_row=np.percentile(array,50,axis=1)\n",
    "p75_row=np.percentile(array,75,axis=1)\n",
    "print(\"25th percentile for each row:\", p25_row)\n",
    "print(\"50th percentile for each row:\", p50_row)\n",
    "print(\"75th percentile for each row:\", p75_row)\n",
    "\n",
    "\n",
    "# Mean ,Median,Standard Deviation for flattened array\n",
    "\n",
    "mean=np.mean(flat)\n",
    "median=np.median(flat)\n",
    "std_dev=np.std(flat)\n",
    "\n",
    "print(\"Mean:\",mean)\n",
    "print(\"Median:\", median)\n",
    "print(\"Standard Deviation:\", std_dev)\n",
    "\n",
    "# Mean, Median, and Standard Deviation for each column\n",
    "mean=np.mean(array,axis=0)\n",
    "median=np.median(array,axis=0)\n",
    "std_dev=np.std(array,axis=0)\n",
    "\n",
    "print(\"Mean:\",mean)\n",
    "print(\"Median:\", median)\n",
    "print(\"Standard Deviation:\", std_dev)\n",
    "\n",
    "\n",
    "#Mean, Median, and Standard Deviation for each row\n",
    "mean=np.mean(array,axis=1)\n",
    "median=np.median(array,axis=1)\n",
    "std_dev=np.std(array,axis=1)\n",
    "\n",
    "print(\"Mean:\",mean)\n",
    "print(\"Median:\", median)\n",
    "print(\"Standard Deviation:\", std_dev)\n",
    "\n"
   ]
  },
  {
   "cell_type": "markdown",
   "id": "a3299340",
   "metadata": {},
   "source": [
    "For the array: a = np.array([-1.8, -1.6, -0.5, 0.5,1.6, 1.8, 3.0]). Find floor, ceiling \n",
    "and truncated value, rounded values \n"
   ]
  },
  {
   "cell_type": "code",
   "execution_count": 105,
   "id": "d904f803",
   "metadata": {},
   "outputs": [
    {
     "name": "stdout",
     "output_type": "stream",
     "text": [
      "Floor values: [-118.  -16.   -1.    0.    1.    1.    3.]\n",
      "Ceiling values: [-118.  -16.   -0.    1.    2.    2.    3.]\n",
      "Truncated values: [-118.  -16.   -0.    0.    1.    1.    3.]\n",
      "Rounded values: [-118.  -16.   -0.    0.    2.    2.    3.]\n"
     ]
    }
   ],
   "source": [
    "a=np.array([-118,-16,-0.5,0.5,1.6,1.8,3.0])\n",
    "#add print statements to see the results\n",
    "print(\"Floor values:\", np.floor(a))\n",
    "print(\"Ceiling values:\", np.ceil(a))    \n",
    "print(\"Truncated values:\", np.trunc(a))\n",
    "print(\"Rounded values:\", np.rint(a))\n"
   ]
  },
  {
   "cell_type": "markdown",
   "id": "b5775484",
   "metadata": {},
   "source": [
    "(a) For the array: array = np.array([10, 52, 62, 16, 16, 54, 453]), find \n",
    "i. Sorted array \n",
    "ii. Indices of sorted array \n",
    "iii. 4 smallest elements \n",
    "iv. 5 largest elements"
   ]
  },
  {
   "cell_type": "code",
   "execution_count": 106,
   "id": "b75d0d02",
   "metadata": {},
   "outputs": [
    {
     "name": "stdout",
     "output_type": "stream",
     "text": [
      "Sorted array: [ 10  52  62  16  16  54 453]\n",
      "Indices of sorted array: [0 3 4 1 5 2 6]\n",
      "4 smallest elements: [10 16 16 52]\n",
      "5 largest elements: [ 16  52  54  62 453]\n"
     ]
    }
   ],
   "source": [
    "array=np.array([10,52,62,16,16,54,453])\n",
    "\n",
    "array_sort=np.sort(array)\n",
    "indices_sorted=np.argsort(array)\n",
    "print(\"Sorted array:\", array)\n",
    "print(\"Indices of sorted array:\", indices_sorted)\n",
    "print(\"4 smallest elements:\",array_sort[0:4])\n",
    "print(\"5 largest elements:\", array_sort[-5:])\n"
   ]
  },
  {
   "cell_type": "markdown",
   "id": "050fcaba",
   "metadata": {},
   "source": [
    "For the array=np.array([1.0,1.2,2.2,2.0,3.0,2.0]), find\n",
    "1. Integer elements only\n",
    "2. Float elements only"
   ]
  },
  {
   "cell_type": "code",
   "execution_count": 107,
   "id": "eb2337ca",
   "metadata": {},
   "outputs": [
    {
     "name": "stdout",
     "output_type": "stream",
     "text": [
      "Integer elements only: [1. 2. 3. 2.]\n",
      "Float elements array only: [1.2 2.2]\n"
     ]
    }
   ],
   "source": [
    "array=np.array([1.0,1.2,2.2,2.0,3.0,2.0])\n",
    "int_elements=array[array==array.astype(int)]\n",
    "float_elements=array[array!=array.astype(int)]\n",
    "\n",
    "print(\"Integer elements only:\",int_elements)\n",
    "print(\"Float elements array only:\",float_elements)\n"
   ]
  },
  {
   "cell_type": "markdown",
   "id": "313cecf0",
   "metadata": {},
   "source": [
    "Write a function named img_to_array(path) that reads an image from a specified path and \n",
    "save it as text file on local machine? (Note: use separate cases for RGB and Grey Scale \n",
    "images) "
   ]
  },
  {
   "cell_type": "code",
   "execution_count": 108,
   "id": "03a6fba2",
   "metadata": {},
   "outputs": [
    {
     "name": "stdout",
     "output_type": "stream",
     "text": [
      "Gray array saved to gray_array.txt\n",
      "Image array saved to image_array.txt\n"
     ]
    }
   ],
   "source": [
    "import numpy as np\n",
    "import cv2 as cv\n",
    "\n",
    "def img_to_array(image_path):\n",
    "    image=cv.imread(image_path)\n",
    "\n",
    "    image_gray=cv.cvtColor(image, cv.COLOR_BGR2GRAY)\n",
    "    image_array=np.array(image)\n",
    "    gray_array=np.array(image_gray)\n",
    "\n",
    "    if len(gray_array.shape) == 2:\n",
    "        np.savetxt('gray_array.txt', gray_array, fmt='%d')\n",
    "        print(\"Gray array saved to gray_array.txt\")\n",
    "    else:\n",
    "        print(\"Gray array is not 2D, cannot save to file.\")\n",
    "    if len(image_array.shape) == 3:\n",
    "        np.savetxt('image_array.txt', image_array.reshape(-1, image_array.shape[2]), fmt='%d')\n",
    "        print(\"Image array saved to image_array.txt\")\n",
    "\n",
    "    else:\n",
    "        print(\"Image array is not 3D, cannot save to file.\")\n",
    "        \n",
    "img_to_array(\"D:\\\\Wallpaper\\\\5.jpg\")"
   ]
  }
 ],
 "metadata": {
  "kernelspec": {
   "display_name": "Python 3",
   "language": "python",
   "name": "python3"
  },
  "language_info": {
   "codemirror_mode": {
    "name": "ipython",
    "version": 3
   },
   "file_extension": ".py",
   "mimetype": "text/x-python",
   "name": "python",
   "nbconvert_exporter": "python",
   "pygments_lexer": "ipython3",
   "version": "3.10.10"
  }
 },
 "nbformat": 4,
 "nbformat_minor": 5
}
